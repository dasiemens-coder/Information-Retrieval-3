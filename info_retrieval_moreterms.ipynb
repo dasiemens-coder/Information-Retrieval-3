{
 "cells": [
  {
   "cell_type": "code",
   "execution_count": 1,
   "metadata": {
    "colab": {
     "base_uri": "https://localhost:8080/"
    },
    "executionInfo": {
     "elapsed": 1350,
     "status": "ok",
     "timestamp": 1741193186722,
     "user": {
      "displayName": "Inés Simón del Collado",
      "userId": "16799051721855248348"
     },
     "user_tz": -60
    },
    "id": "jKSalNKQKnlm",
    "outputId": "9801eff3-e16c-4049-fad8-4958951d276a"
   },
   "outputs": [],
   "source": [
    "import requests\n",
    "import pandas as pd\n",
    "import random"
   ]
  },
  {
   "cell_type": "code",
   "execution_count": 2,
   "metadata": {
    "executionInfo": {
     "elapsed": 37,
     "status": "ok",
     "timestamp": 1741195782984,
     "user": {
      "displayName": "Inés Simón del Collado",
      "userId": "16799051721855248348"
     },
     "user_tz": -60
    },
    "id": "C1K7hpuWM5ee"
   },
   "outputs": [],
   "source": [
    "# Load Excel file\n",
    "excel_file = \"loinc_dataset-v2.xlsx\"\n",
    "\n",
    "# API Base URL (example, update as needed)\n",
    "api_url = \"https://loinc.regenstrief.org/searchapi/loincs\"\n",
    "\n",
    "# Authentication credentials\n",
    "auth = (\"davissiemens\", \"jejben-3rykVi-fejzaf\")"
   ]
  },
  {
   "cell_type": "code",
   "execution_count": 3,
   "metadata": {
    "executionInfo": {
     "elapsed": 50,
     "status": "ok",
     "timestamp": 1741195784747,
     "user": {
      "displayName": "Inés Simón del Collado",
      "userId": "16799051721855248348"
     },
     "user_tz": -60
    },
    "id": "Nxs5UfM2MMiY"
   },
   "outputs": [],
   "source": [
    "# Function to get ranking for a LOINC code\n",
    "def get_loinc_data(loinc_num):\n",
    "    params = {\"query\": loinc_num, \"rows\": 1}  # Search parameter\n",
    "    response = requests.get(api_url, params=params, auth=auth)\n",
    "\n",
    "    if response.status_code == 200:\n",
    "        data = response.json()\n",
    "        if \"Results\" in data and len(data[\"Results\"]) > 0:\n",
    "            # Extract the COMMON_TEST_RANK\n",
    "            return data[\"Results\"][0].get(\"COMMON_TEST_RANK\", \"No Rank Found\")\n",
    "    return \"Not Found\""
   ]
  },
  {
   "cell_type": "code",
   "execution_count": 4,
   "metadata": {
    "executionInfo": {
     "elapsed": 43,
     "status": "ok",
     "timestamp": 1741196534163,
     "user": {
      "displayName": "Inés Simón del Collado",
      "userId": "16799051721855248348"
     },
     "user_tz": -60
    },
    "id": "etgBWH_SWID2"
   },
   "outputs": [],
   "source": [
    "# Function to check if a LOINC code is related to \"glucose in blood\"\n",
    "def check_query(loinc_code, query_search):\n",
    "    # Searching for \"glucose in blood\" in the LOINC database\n",
    "    params = {\"query\": query_search, \"rows\": 800}  # Adjust query for glucose search\n",
    "    response = requests.get(api_url, params=params, auth=auth)  # API call with authentication\n",
    "\n",
    "    if response.status_code == 200:\n",
    "        data = response.json()\n",
    "        # Check if any of the results have the same LOINC code\n",
    "        for result in data.get(\"Results\", []):\n",
    "            if result.get(\"LOINC_NUM\") == loinc_code:\n",
    "                return 1\n",
    "    return 0"
   ]
  },
  {
   "cell_type": "code",
   "execution_count": 5,
   "metadata": {
    "colab": {
     "base_uri": "https://localhost:8080/"
    },
    "executionInfo": {
     "elapsed": 111198,
     "status": "ok",
     "timestamp": 1741196646662,
     "user": {
      "displayName": "Inés Simón del Collado",
      "userId": "16799051721855248348"
     },
     "user_tz": -60
    },
    "id": "AoABPV8FQOjL",
    "outputId": "18027ac4-e6fc-4592-8f82-3b612051e78d"
   },
   "outputs": [
    {
     "name": "stdout",
     "output_type": "stream",
     "text": [
      "Processing sheet: glucose in blood\n",
      "Processing sheet: bilirubin in plasma\n",
      "Processing sheet: White blood cells count\n",
      "LOINC rankings saved to loinc_ranks_query.xlsx\n"
     ]
    }
   ],
   "source": [
    "# Read all sheets from the Excel file\n",
    "excel_sheets = pd.read_excel(excel_file, sheet_name=None, skiprows=2)\n",
    "\n",
    "# Prepare a dictionary to hold the results\n",
    "result_dict = {}\n",
    "\n",
    "# Loop through each sheet in the Excel file\n",
    "for sheet_name, df in excel_sheets.items():\n",
    "    print(f\"Processing sheet: {sheet_name}\")\n",
    "    # Assuming LOINC codes are in a column named 'LOINC Code'\n",
    "    df[\"rank\"] = df[\"loinc_num\"].astype(str).apply(get_loinc_data)\n",
    "\n",
    "    df[\"inSearch\"] = df[\"loinc_num\"].astype(str).apply(lambda x: check_query(x, sheet_name))\n",
    "\n",
    "    # Save the results for each sheet in the result_dict\n",
    "    result_dict[sheet_name] = df\n",
    "\n",
    "# Save the results to a new Excel file with multiple sheets\n",
    "with pd.ExcelWriter(\"./loinc_ranks_query.xlsx\") as writer:\n",
    "    for sheet_name, df in result_dict.items():\n",
    "        df.to_excel(writer, sheet_name=sheet_name, index=False)\n",
    "\n",
    "print(\"LOINC rankings saved to loinc_ranks_query.xlsx\")"
   ]
  },
  {
   "cell_type": "markdown",
   "metadata": {},
   "source": [
    "## Adding more terms"
   ]
  },
  {
   "cell_type": "markdown",
   "metadata": {},
   "source": [
    "## More general code for all sheets related and not related documents"
   ]
  },
  {
   "cell_type": "code",
   "execution_count": 6,
   "metadata": {},
   "outputs": [],
   "source": [
    "def get_related_loincs(query, num_results=10):\n",
    "    \"\"\"\n",
    "    Fetches relevant documents from the LOINC API based on search query (sheets names)\n",
    "    \"\"\"\n",
    "    params = {\"query\": query, \"rows\": num_results}\n",
    "    response = requests.get(api_url, params=params, auth=auth)\n",
    "\n",
    "    results = []\n",
    "    if response.status_code == 200:\n",
    "        data = response.json()\n",
    "        for result in data.get(\"Results\", []):\n",
    "            results.append({\n",
    "                \"loinc_num\": result.get(\"LOINC_NUM\", \"Unknown\"),\n",
    "                \"long_common_name\": result.get(\"LONG_COMMON_NAME\", \"Unknown\"),\n",
    "                \"component\": result.get(\"COMPONENT\", \"Unknown\"),\n",
    "                \"system\": result.get(\"SYSTEM\", \"Unknown\"),\n",
    "                \"property\": result.get(\"PROPERTY\", \"Unknown\"),\n",
    "                \"rank\": result.get(\"COMMON_TEST_RANK\", \"No Rank Found\"),\n",
    "                \"inSearch\": 1  # Mark as related\n",
    "            })\n",
    "    return pd.DataFrame(results)"
   ]
  },
  {
   "cell_type": "code",
   "execution_count": 28,
   "metadata": {},
   "outputs": [],
   "source": [
    "from fuzzywuzzy import fuzz\n",
    "\n",
    "def get_unrelated_loincs(existing_loincs, num_results=20):\n",
    "    \"\"\"\n",
    "    Fetches random documents that are NOT in the list of already used LOINC IDs.\n",
    "    \"\"\"\n",
    "    params = {\"query\": \"*\", \"rows\": num_results * 5}  # Get more than 20 to filter\n",
    "    response = requests.get(api_url, params=params, auth=auth)\n",
    "\n",
    "    results = []\n",
    "    if response.status_code == 200:\n",
    "        data = response.json()\n",
    "        count = 0\n",
    "        for result in data.get(\"Results\", []):\n",
    "            loinc_id = result.get(\"LOINC_NUM\", \"Unknown\")\n",
    "\n",
    "            # Ensure it's not in the related documents list\n",
    "            if loinc_id not in existing_loincs and count < num_results:\n",
    "                results.append({\n",
    "                    \"loinc_num\": loinc_id,\n",
    "                    \"long_common_name\": result.get(\"LONG_COMMON_NAME\", \"Unknown\"),\n",
    "                    \"component\": result.get(\"COMPONENT\", \"Unknown\"),\n",
    "                    \"system\": result.get(\"SYSTEM\", \"Unknown\"),\n",
    "                    \"property\": result.get(\"PROPERTY\", \"Unknown\"),\n",
    "                    \"rank\": result.get(\"COMMON_TEST_RANK\", \"No Rank Found\"),\n",
    "                    \"inSearch\": 0  # Mark as NOT related\n",
    "                })\n",
    "                count += 1\n",
    "\n",
    "\n",
    "    return pd.DataFrame(random.sample(results, num_results))\n",
    "                                      #min(num_results, len(results))))\n",
    "\n",
    "    #return pd.DataFrame(results)\n"
   ]
  },
  {
   "cell_type": "code",
   "execution_count": 29,
   "metadata": {},
   "outputs": [],
   "source": [
    "def add_related_and_unrelated_rows_to_sheets(file_path):\n",
    "    \"\"\"\n",
    "    Reads the Excel file and adds 10 related and 20 unrelated documents to each sheet.\n",
    "    \"\"\"\n",
    "    # Read all sheets from the Excel file\n",
    "    excel_sheets = pd.read_excel(file_path, sheet_name=None)\n",
    "\n",
    "    # Dictionary to store updated data\n",
    "    updated_sheets = {}\n",
    "\n",
    "    # Iterate through each sheet in the Excel file\n",
    "    for sheet_name, df in excel_sheets.items():\n",
    "        print(f\"Adding documents to sheet: {sheet_name}\")\n",
    "\n",
    "        # Get 10 relevant documents based on the sheet name (query)\n",
    "        df_related = get_related_loincs(sheet_name, num_results=10)\n",
    "\n",
    "        # Get 20 unrelated documents ensuring no duplicates\n",
    "        existing_loincs = set(df[\"loinc_num\"].astype(str)) | set(df_related[\"loinc_num\"].astype(str))\n",
    "        df_unrelated = get_unrelated_loincs(existing_loincs, num_results=20)\n",
    "\n",
    "        # Combine original data with new documents\n",
    "        df_updated = pd.concat([df, df_related, df_unrelated], ignore_index=True)\n",
    "\n",
    "        # Save updated sheet data\n",
    "        updated_sheets[sheet_name] = df_updated\n",
    "\n",
    "    # Save the updated Excel file with all new rows\n",
    "    with pd.ExcelWriter(file_path, engine=\"openpyxl\", mode=\"w\") as writer:\n",
    "        for sheet_name, df in updated_sheets.items():\n",
    "            df.to_excel(writer, sheet_name=sheet_name, index=False)\n",
    "\n",
    "    print(\"Related and unrelated documents have been successfully added.\")\n"
   ]
  },
  {
   "cell_type": "code",
   "execution_count": 23,
   "metadata": {},
   "outputs": [
    {
     "name": "stdout",
     "output_type": "stream",
     "text": [
      "Adding documents to sheet: glucose in blood\n"
     ]
    },
    {
     "ename": "ValueError",
     "evalue": "Sample larger than population or is negative",
     "output_type": "error",
     "traceback": [
      "\u001b[1;31m---------------------------------------------------------------------------\u001b[0m",
      "\u001b[1;31mValueError\u001b[0m                                Traceback (most recent call last)",
      "Cell \u001b[1;32mIn[23], line 2\u001b[0m\n\u001b[0;32m      1\u001b[0m \u001b[38;5;66;03m# Run the function to update the file with all sheets\u001b[39;00m\n\u001b[1;32m----> 2\u001b[0m \u001b[43madd_related_and_unrelated_rows_to_sheets\u001b[49m\u001b[43m(\u001b[49m\u001b[38;5;124;43m\"\u001b[39;49m\u001b[38;5;124;43mloinc_ranks_query.xlsx\u001b[39;49m\u001b[38;5;124;43m\"\u001b[39;49m\u001b[43m)\u001b[49m\n",
      "Cell \u001b[1;32mIn[22], line 20\u001b[0m, in \u001b[0;36madd_related_and_unrelated_rows_to_sheets\u001b[1;34m(file_path)\u001b[0m\n\u001b[0;32m     18\u001b[0m \u001b[38;5;66;03m# Get 20 unrelated documents ensuring no duplicates\u001b[39;00m\n\u001b[0;32m     19\u001b[0m existing_loincs \u001b[38;5;241m=\u001b[39m \u001b[38;5;28mset\u001b[39m(df[\u001b[38;5;124m\"\u001b[39m\u001b[38;5;124mloinc_num\u001b[39m\u001b[38;5;124m\"\u001b[39m]\u001b[38;5;241m.\u001b[39mastype(\u001b[38;5;28mstr\u001b[39m)) \u001b[38;5;241m|\u001b[39m \u001b[38;5;28mset\u001b[39m(df_related[\u001b[38;5;124m\"\u001b[39m\u001b[38;5;124mloinc_num\u001b[39m\u001b[38;5;124m\"\u001b[39m]\u001b[38;5;241m.\u001b[39mastype(\u001b[38;5;28mstr\u001b[39m))\n\u001b[1;32m---> 20\u001b[0m df_unrelated \u001b[38;5;241m=\u001b[39m \u001b[43mget_unrelated_loincs\u001b[49m\u001b[43m(\u001b[49m\u001b[43mexisting_loincs\u001b[49m\u001b[43m,\u001b[49m\u001b[43m \u001b[49m\u001b[43mnum_results\u001b[49m\u001b[38;5;241;43m=\u001b[39;49m\u001b[38;5;241;43m20\u001b[39;49m\u001b[43m)\u001b[49m\n\u001b[0;32m     22\u001b[0m \u001b[38;5;66;03m# Combine original data with new documents\u001b[39;00m\n\u001b[0;32m     23\u001b[0m df_updated \u001b[38;5;241m=\u001b[39m pd\u001b[38;5;241m.\u001b[39mconcat([df, df_related, df_unrelated], ignore_index\u001b[38;5;241m=\u001b[39m\u001b[38;5;28;01mTrue\u001b[39;00m)\n",
      "Cell \u001b[1;32mIn[21], line 48\u001b[0m, in \u001b[0;36mget_unrelated_loincs\u001b[1;34m(existing_loincs, num_results)\u001b[0m\n\u001b[0;32m     44\u001b[0m \u001b[38;5;66;03m# Filter highly similar results before final selection\u001b[39;00m\n\u001b[0;32m     45\u001b[0m filtered_results \u001b[38;5;241m=\u001b[39m remove_similar_rows(results, threshold\u001b[38;5;241m=\u001b[39m\u001b[38;5;241m85\u001b[39m)\n\u001b[1;32m---> 48\u001b[0m \u001b[38;5;28;01mreturn\u001b[39;00m pd\u001b[38;5;241m.\u001b[39mDataFrame(\u001b[43mrandom\u001b[49m\u001b[38;5;241;43m.\u001b[39;49m\u001b[43msample\u001b[49m\u001b[43m(\u001b[49m\u001b[43mfiltered_results\u001b[49m\u001b[43m,\u001b[49m\u001b[43m \u001b[49m\u001b[43mnum_results\u001b[49m\u001b[43m)\u001b[49m)\n",
      "File \u001b[1;32mC:\\Program Files\\WindowsApps\\PythonSoftwareFoundation.Python.3.8_3.8.2800.0_x64__qbz5n2kfra8p0\\lib\\random.py:363\u001b[0m, in \u001b[0;36mRandom.sample\u001b[1;34m(self, population, k)\u001b[0m\n\u001b[0;32m    361\u001b[0m n \u001b[38;5;241m=\u001b[39m \u001b[38;5;28mlen\u001b[39m(population)\n\u001b[0;32m    362\u001b[0m \u001b[38;5;28;01mif\u001b[39;00m \u001b[38;5;129;01mnot\u001b[39;00m \u001b[38;5;241m0\u001b[39m \u001b[38;5;241m<\u001b[39m\u001b[38;5;241m=\u001b[39m k \u001b[38;5;241m<\u001b[39m\u001b[38;5;241m=\u001b[39m n:\n\u001b[1;32m--> 363\u001b[0m     \u001b[38;5;28;01mraise\u001b[39;00m \u001b[38;5;167;01mValueError\u001b[39;00m(\u001b[38;5;124m\"\u001b[39m\u001b[38;5;124mSample larger than population or is negative\u001b[39m\u001b[38;5;124m\"\u001b[39m)\n\u001b[0;32m    364\u001b[0m result \u001b[38;5;241m=\u001b[39m [\u001b[38;5;28;01mNone\u001b[39;00m] \u001b[38;5;241m*\u001b[39m k\n\u001b[0;32m    365\u001b[0m setsize \u001b[38;5;241m=\u001b[39m \u001b[38;5;241m21\u001b[39m        \u001b[38;5;66;03m# size of a small set minus size of an empty list\u001b[39;00m\n",
      "\u001b[1;31mValueError\u001b[0m: Sample larger than population or is negative"
     ]
    }
   ],
   "source": [
    "# Run the function to update the file with all sheets\n",
    "add_related_and_unrelated_rows_to_sheets(\"loinc_ranks_query.xlsx\")"
   ]
  },
  {
   "cell_type": "markdown",
   "metadata": {},
   "source": [
    "## Adding a new query sheet "
   ]
  },
  {
   "cell_type": "code",
   "execution_count": null,
   "metadata": {},
   "outputs": [],
   "source": [
    "def add_new_query_sheet(file_path, new_query):\n",
    "    \"\"\"\n",
    "    Adds a completely new query and its related documents as a new sheet in the Excel file.\n",
    "    \"\"\"\n",
    "    # Read all existing sheets\n",
    "    excel_sheets = pd.read_excel(file_path, sheet_name=None)\n",
    "\n",
    "    print(f\"Adding new query: {new_query}\")\n",
    "\n",
    "    # Fetch data for the new query\n",
    "    df_related = get_related_loincs(new_query, num_results=10)\n",
    "\n",
    "    # Get 20 unrelated documents ensuring no duplicates\n",
    "    existing_loincs = set(set(df_related[\"loinc_num\"].astype(str)))\n",
    "    df_unrelated = get_unrelated_loincs(existing_loincs, num_results=90)\n",
    "\n",
    "    # Combine original data with new documents\n",
    "    df_new_sheet = pd.concat([df_related, df_unrelated], ignore_index=True)\n",
    "    \n",
    "\n",
    "    # Add the new query as a sheet in the Excel file\n",
    "    with pd.ExcelWriter(file_path, engine=\"openpyxl\", mode=\"w\") as writer:\n",
    "        for sheet_name, df in excel_sheets.items():\n",
    "            df.to_excel(writer, sheet_name=sheet_name, index=False)\n",
    "        \n",
    "        # Add the new sheet\n",
    "        df_new_sheet.to_excel(writer, sheet_name=new_query, index=False)\n",
    "\n",
    "    print(f\"New sheet '{new_query}' added successfully.\")"
   ]
  },
  {
   "cell_type": "code",
   "execution_count": null,
   "metadata": {},
   "outputs": [
    {
     "name": "stdout",
     "output_type": "stream",
     "text": [
      "Adding new query: cholesterol in blood\n",
      "New sheet 'cholesterol in blood' added successfully.\n"
     ]
    }
   ],
   "source": [
    "# Run the function to add a new sheet with a random unrelated query\n",
    "add_new_query_sheet(\"loinc_ranks_query.xlsx\", \"cholesterol in blood\")"
   ]
  },
  {
   "cell_type": "code",
   "execution_count": 32,
   "metadata": {},
   "outputs": [
    {
     "name": "stdout",
     "output_type": "stream",
     "text": [
      "Adding new query: PrThr Iron\n",
      "New sheet 'PrThr Iron' added successfully.\n"
     ]
    }
   ],
   "source": [
    "add_new_query_sheet(\"loinc_ranks_query_moreterms.xlsx\", \"PrThr Iron\")"
   ]
  },
  {
   "cell_type": "code",
   "execution_count": 33,
   "metadata": {},
   "outputs": [
    {
     "name": "stdout",
     "output_type": "stream",
     "text": [
      "Adding new query: PrThr calcium oxalate crystals\n",
      "New sheet 'PrThr calcium oxalate crystals' added successfully.\n"
     ]
    }
   ],
   "source": [
    "add_new_query_sheet(\"loinc_ranks_query_moreterms.xlsx\", \"PrThr calcium oxalate crystals\")"
   ]
  },
  {
   "cell_type": "code",
   "execution_count": null,
   "metadata": {},
   "outputs": [],
   "source": []
  }
 ],
 "metadata": {
  "colab": {
   "authorship_tag": "ABX9TyNQTzH/69t/YkDNUQpczFTB",
   "provenance": []
  },
  "kernelspec": {
   "display_name": "Python 3",
   "name": "python3"
  },
  "language_info": {
   "codemirror_mode": {
    "name": "ipython",
    "version": 3
   },
   "file_extension": ".py",
   "mimetype": "text/x-python",
   "name": "python",
   "nbconvert_exporter": "python",
   "pygments_lexer": "ipython3",
   "version": "3.8.10"
  }
 },
 "nbformat": 4,
 "nbformat_minor": 0
}
